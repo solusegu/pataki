{
  "metadata": {
    "kernelspec": {
      "name": "python",
      "display_name": "Python (Pyodide)",
      "language": "python"
    },
    "language_info": {
      "codemirror_mode": {
        "name": "python",
        "version": 3
      },
      "file_extension": ".py",
      "mimetype": "text/x-python",
      "name": "python",
      "nbconvert_exporter": "python",
      "pygments_lexer": "ipython3",
      "version": "3.8"
    }
  },
  "nbformat_minor": 5,
  "nbformat": 4,
  "cells": [
    {
      "id": "9ddd37d2-3c50-4064-977b-340f34b2f085",
      "cell_type": "markdown",
      "source": "# Data Science Tools and Ecosystem",
      "metadata": {}
    },
    {
      "id": "762a5375-9bc2-42e0-b2e6-751f2c9ce8d8",
      "cell_type": "markdown",
      "source": "In this notebook, Data Science Tools and Ecosystem are summarized.",
      "metadata": {}
    },
    {
      "id": "af1957d0-aeea-4b4e-a3e0-2e5fd1f8aca6",
      "cell_type": "markdown",
      "source": "**Objectives:**\n- List popular languages for Data Science\n- List commonly used libraries used by Data Scientists\n- Create a table of Data Science tools\n- evaluate arithmetic expressions in Python",
      "metadata": {}
    },
    {
      "id": "a573178d-a0aa-48f9-9533-d229194d5e45",
      "cell_type": "markdown",
      "source": "Some of the popular languages that Data Scientists use are:\n1. Python\n2. R\n3. C++\n4. SQL\n5. Java\n6. Scala\n7. Julia",
      "metadata": {}
    },
    {
      "id": "b8026b60-6231-42ac-afbe-8c9459156a44",
      "cell_type": "markdown",
      "source": "Some of the commonly used libraries used by Data Scientists include:\n\n1. Pandas\n2. NumPy\n3. SciPy\n4. Matplotlib.",
      "metadata": {}
    },
    {
      "id": "5f4ab90c-c678-4626-b0b5-d11abaf79142",
      "cell_type": "markdown",
      "source": "| Data Science Tools |\n| --- |\n| RStudio |\n| Jupyter Notebook |\n| Visual Studio Code |",
      "metadata": {}
    },
    {
      "id": "09fec75b-f7b5-40d0-91ce-dfc0dbd6bdc7",
      "cell_type": "markdown",
      "source": "### Below are a few examples of evaluating arithmetic expressions in Python",
      "metadata": {}
    },
    {
      "id": "2075129e-a3ae-4d83-8c41-d043579d7770",
      "cell_type": "code",
      "source": "# This a simple arithmetic expression to mutiply then add integers\n(3*4)+5",
      "metadata": {
        "trusted": true
      },
      "outputs": [
        {
          "execution_count": 3,
          "output_type": "execute_result",
          "data": {
            "text/plain": "17"
          },
          "metadata": {}
        }
      ],
      "execution_count": 3
    },
    {
      "id": "162b1182-0b83-464a-947d-94564239df49",
      "cell_type": "code",
      "source": "# This will convert 200 minutes to hours by diving by 60\n200/60",
      "metadata": {
        "trusted": true
      },
      "outputs": [
        {
          "execution_count": 4,
          "output_type": "execute_result",
          "data": {
            "text/plain": "3.3333333333333335"
          },
          "metadata": {}
        }
      ],
      "execution_count": 4
    },
    {
      "id": "d62e2518-348d-4d2f-b16c-6449a75febb3",
      "cell_type": "markdown",
      "source": "## Author\nSamuel Olusegun",
      "metadata": {}
    }
  ]
}